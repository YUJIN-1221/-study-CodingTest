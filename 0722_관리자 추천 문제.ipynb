{
 "cells": [
  {
   "cell_type": "code",
   "execution_count": 16,
   "id": "0acc8d08",
   "metadata": {},
   "outputs": [
    {
     "name": "stdout",
     "output_type": "stream",
     "text": [
      "2 8\n",
      "{8, 1, 2, 4}\n",
      "1 2 4 8 "
     ]
    }
   ],
   "source": [
    "a, b = list(map(int, input().split()))\n",
    "\n",
    "ans = set()\n",
    "for i in range(1, int(a**0.5)+1):\n",
    "    if a % i == 0:\n",
    "        ans.add(i)\n",
    "        ans.add(a//i)\n",
    "    else:\n",
    "        pass\n",
    "for i in range(1, int(b**0.5)+1):\n",
    "    if b % i == 0:\n",
    "        ans.add(i)\n",
    "        ans.add(b//i)\n",
    "    else:\n",
    "        pass\n",
    "    \n",
    "for i in sorted(list(ans)):\n",
    "    print(i, end = ' ')"
   ]
  },
  {
   "cell_type": "code",
   "execution_count": 10,
   "id": "09c2f89e",
   "metadata": {},
   "outputs": [
    {
     "data": {
      "text/plain": [
       "3"
      ]
     },
     "execution_count": 10,
     "metadata": {},
     "output_type": "execute_result"
    }
   ],
   "source": [
    "pang = []\n",
    "for i in range(7):\n",
    "    pang.append(list(map(int, input().split())))\n",
    "    \n",
    "x, y = 0, 0\n",
    "count = 0\n",
    "while True:\n",
    "    c = pang[x][y]\n",
    "    if pang[x+1][y] == pang[x][y+1] == c:\n",
    "        count += 1\n",
    "    elif pang[x+1][y] == c:\n",
    "        pass\n",
    "    elif pang[x][y+1] == c:\n",
    "        pass"
   ]
  },
  {
   "cell_type": "code",
   "execution_count": null,
   "id": "07e185d1",
   "metadata": {},
   "outputs": [],
   "source": [
    "n = int(input())\n",
    "\n"
   ]
  }
 ],
 "metadata": {
  "kernelspec": {
   "display_name": "PyTorch",
   "language": "python",
   "name": "pytorch"
  },
  "language_info": {
   "codemirror_mode": {
    "name": "ipython",
    "version": 3
   },
   "file_extension": ".py",
   "mimetype": "text/x-python",
   "name": "python",
   "nbconvert_exporter": "python",
   "pygments_lexer": "ipython3",
   "version": "3.7.11"
  }
 },
 "nbformat": 4,
 "nbformat_minor": 5
}
